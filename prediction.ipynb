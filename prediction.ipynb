{
 "cells": [
  {
   "cell_type": "code",
   "execution_count": 2,
   "id": "a3bba19b-d569-4ba2-80f9-921dd23ddf8a",
   "metadata": {},
   "outputs": [
    {
     "name": "stdout",
     "output_type": "stream",
     "text": [
      "Defaulting to user installation because normal site-packages is not writeable\n",
      "Collecting lightgbm\n",
      "  Downloading lightgbm-4.5.0-py3-none-manylinux_2_28_x86_64.whl.metadata (17 kB)\n",
      "Requirement already satisfied: numpy>=1.17.0 in /opt/conda/lib/python3.11/site-packages (from lightgbm) (1.26.4)\n",
      "Requirement already satisfied: scipy in /opt/conda/lib/python3.11/site-packages (from lightgbm) (1.13.0)\n",
      "Downloading lightgbm-4.5.0-py3-none-manylinux_2_28_x86_64.whl (3.6 MB)\n",
      "\u001b[2K   \u001b[90m━━━━━━━━━━━━━━━━━━━━━━━━━━━━━━━━━━━━━━━━\u001b[0m \u001b[32m3.6/3.6 MB\u001b[0m \u001b[31m81.8 MB/s\u001b[0m eta \u001b[36m0:00:00\u001b[0m:00:01\u001b[0m\n",
      "\u001b[?25hInstalling collected packages: lightgbm\n",
      "Successfully installed lightgbm-4.5.0\n"
     ]
    }
   ],
   "source": [
    "!pip install lightgbm"
   ]
  },
  {
   "cell_type": "code",
   "execution_count": 52,
   "id": "080b7c49-dd26-4639-be4c-b1d8ab0b54e8",
   "metadata": {},
   "outputs": [],
   "source": [
    "import json\n",
    "import gzip\n",
    "import math\n",
    "import numpy as np\n",
    "import random\n",
    "import statistics\n",
    "import pandas as pd\n",
    "from matplotlib import pyplot as plt\n",
    "import seaborn as sns\n",
    "from sklearn import linear_model\n",
    "import datetime\n",
    "from tqdm import tqdm\n",
    "import sys\n",
    "import warnings\n",
    "import lightgbm as lgbm\n",
    "from sklearn.model_selection import KFold\n",
    "\n",
    "warnings.filterwarnings(\"ignore\")\n",
    "sns.set_style(\"white\")"
   ]
  },
  {
   "cell_type": "code",
   "execution_count": 6,
   "id": "876fbdfb-5ca1-4182-8dc5-add1ad1ab66a",
   "metadata": {},
   "outputs": [
    {
     "data": {
      "text/html": [
       "<div>\n",
       "<style scoped>\n",
       "    .dataframe tbody tr th:only-of-type {\n",
       "        vertical-align: middle;\n",
       "    }\n",
       "\n",
       "    .dataframe tbody tr th {\n",
       "        vertical-align: top;\n",
       "    }\n",
       "\n",
       "    .dataframe thead th {\n",
       "        text-align: right;\n",
       "    }\n",
       "</style>\n",
       "<table border=\"1\" class=\"dataframe\">\n",
       "  <thead>\n",
       "    <tr style=\"text-align: right;\">\n",
       "      <th></th>\n",
       "      <th>id</th>\n",
       "      <th>event_id</th>\n",
       "      <th>down_time</th>\n",
       "      <th>up_time</th>\n",
       "      <th>action_time</th>\n",
       "      <th>activity</th>\n",
       "      <th>down_event</th>\n",
       "      <th>up_event</th>\n",
       "      <th>text_change</th>\n",
       "      <th>cursor_position</th>\n",
       "      <th>word_count</th>\n",
       "    </tr>\n",
       "  </thead>\n",
       "  <tbody>\n",
       "    <tr>\n",
       "      <th>0</th>\n",
       "      <td>001519c8</td>\n",
       "      <td>1</td>\n",
       "      <td>4526</td>\n",
       "      <td>4557</td>\n",
       "      <td>31</td>\n",
       "      <td>Nonproduction</td>\n",
       "      <td>Leftclick</td>\n",
       "      <td>Leftclick</td>\n",
       "      <td>NoChange</td>\n",
       "      <td>0</td>\n",
       "      <td>0</td>\n",
       "    </tr>\n",
       "    <tr>\n",
       "      <th>1</th>\n",
       "      <td>001519c8</td>\n",
       "      <td>2</td>\n",
       "      <td>4558</td>\n",
       "      <td>4962</td>\n",
       "      <td>404</td>\n",
       "      <td>Nonproduction</td>\n",
       "      <td>Leftclick</td>\n",
       "      <td>Leftclick</td>\n",
       "      <td>NoChange</td>\n",
       "      <td>0</td>\n",
       "      <td>0</td>\n",
       "    </tr>\n",
       "    <tr>\n",
       "      <th>2</th>\n",
       "      <td>001519c8</td>\n",
       "      <td>3</td>\n",
       "      <td>106571</td>\n",
       "      <td>106571</td>\n",
       "      <td>0</td>\n",
       "      <td>Nonproduction</td>\n",
       "      <td>Shift</td>\n",
       "      <td>Shift</td>\n",
       "      <td>NoChange</td>\n",
       "      <td>0</td>\n",
       "      <td>0</td>\n",
       "    </tr>\n",
       "    <tr>\n",
       "      <th>3</th>\n",
       "      <td>001519c8</td>\n",
       "      <td>4</td>\n",
       "      <td>106686</td>\n",
       "      <td>106777</td>\n",
       "      <td>91</td>\n",
       "      <td>Input</td>\n",
       "      <td>q</td>\n",
       "      <td>q</td>\n",
       "      <td>q</td>\n",
       "      <td>1</td>\n",
       "      <td>1</td>\n",
       "    </tr>\n",
       "    <tr>\n",
       "      <th>4</th>\n",
       "      <td>001519c8</td>\n",
       "      <td>5</td>\n",
       "      <td>107196</td>\n",
       "      <td>107323</td>\n",
       "      <td>127</td>\n",
       "      <td>Input</td>\n",
       "      <td>q</td>\n",
       "      <td>q</td>\n",
       "      <td>q</td>\n",
       "      <td>2</td>\n",
       "      <td>1</td>\n",
       "    </tr>\n",
       "    <tr>\n",
       "      <th>...</th>\n",
       "      <td>...</td>\n",
       "      <td>...</td>\n",
       "      <td>...</td>\n",
       "      <td>...</td>\n",
       "      <td>...</td>\n",
       "      <td>...</td>\n",
       "      <td>...</td>\n",
       "      <td>...</td>\n",
       "      <td>...</td>\n",
       "      <td>...</td>\n",
       "      <td>...</td>\n",
       "    </tr>\n",
       "    <tr>\n",
       "      <th>8405893</th>\n",
       "      <td>fff05981</td>\n",
       "      <td>3615</td>\n",
       "      <td>2063944</td>\n",
       "      <td>2064440</td>\n",
       "      <td>496</td>\n",
       "      <td>Nonproduction</td>\n",
       "      <td>Leftclick</td>\n",
       "      <td>Leftclick</td>\n",
       "      <td>NoChange</td>\n",
       "      <td>1031</td>\n",
       "      <td>240</td>\n",
       "    </tr>\n",
       "    <tr>\n",
       "      <th>8405894</th>\n",
       "      <td>fff05981</td>\n",
       "      <td>3616</td>\n",
       "      <td>2064497</td>\n",
       "      <td>2064497</td>\n",
       "      <td>0</td>\n",
       "      <td>Nonproduction</td>\n",
       "      <td>Shift</td>\n",
       "      <td>Shift</td>\n",
       "      <td>NoChange</td>\n",
       "      <td>1031</td>\n",
       "      <td>240</td>\n",
       "    </tr>\n",
       "    <tr>\n",
       "      <th>8405895</th>\n",
       "      <td>fff05981</td>\n",
       "      <td>3617</td>\n",
       "      <td>2064657</td>\n",
       "      <td>2064765</td>\n",
       "      <td>108</td>\n",
       "      <td>Replace</td>\n",
       "      <td>q</td>\n",
       "      <td>q</td>\n",
       "      <td>q =&gt; q</td>\n",
       "      <td>1031</td>\n",
       "      <td>240</td>\n",
       "    </tr>\n",
       "    <tr>\n",
       "      <th>8405896</th>\n",
       "      <td>fff05981</td>\n",
       "      <td>3618</td>\n",
       "      <td>2069186</td>\n",
       "      <td>2069259</td>\n",
       "      <td>73</td>\n",
       "      <td>Nonproduction</td>\n",
       "      <td>Leftclick</td>\n",
       "      <td>Leftclick</td>\n",
       "      <td>NoChange</td>\n",
       "      <td>1028</td>\n",
       "      <td>240</td>\n",
       "    </tr>\n",
       "    <tr>\n",
       "      <th>8405897</th>\n",
       "      <td>fff05981</td>\n",
       "      <td>3619</td>\n",
       "      <td>2070065</td>\n",
       "      <td>2070133</td>\n",
       "      <td>68</td>\n",
       "      <td>Input</td>\n",
       "      <td>.</td>\n",
       "      <td>.</td>\n",
       "      <td>.</td>\n",
       "      <td>1029</td>\n",
       "      <td>240</td>\n",
       "    </tr>\n",
       "  </tbody>\n",
       "</table>\n",
       "<p>8405898 rows × 11 columns</p>\n",
       "</div>"
      ],
      "text/plain": [
       "               id  event_id  down_time  up_time  action_time       activity  \\\n",
       "0        001519c8         1       4526     4557           31  Nonproduction   \n",
       "1        001519c8         2       4558     4962          404  Nonproduction   \n",
       "2        001519c8         3     106571   106571            0  Nonproduction   \n",
       "3        001519c8         4     106686   106777           91          Input   \n",
       "4        001519c8         5     107196   107323          127          Input   \n",
       "...           ...       ...        ...      ...          ...            ...   \n",
       "8405893  fff05981      3615    2063944  2064440          496  Nonproduction   \n",
       "8405894  fff05981      3616    2064497  2064497            0  Nonproduction   \n",
       "8405895  fff05981      3617    2064657  2064765          108        Replace   \n",
       "8405896  fff05981      3618    2069186  2069259           73  Nonproduction   \n",
       "8405897  fff05981      3619    2070065  2070133           68          Input   \n",
       "\n",
       "        down_event   up_event text_change  cursor_position  word_count  \n",
       "0        Leftclick  Leftclick    NoChange                0           0  \n",
       "1        Leftclick  Leftclick    NoChange                0           0  \n",
       "2            Shift      Shift    NoChange                0           0  \n",
       "3                q          q           q                1           1  \n",
       "4                q          q           q                2           1  \n",
       "...            ...        ...         ...              ...         ...  \n",
       "8405893  Leftclick  Leftclick    NoChange             1031         240  \n",
       "8405894      Shift      Shift    NoChange             1031         240  \n",
       "8405895          q          q      q => q             1031         240  \n",
       "8405896  Leftclick  Leftclick    NoChange             1028         240  \n",
       "8405897          .          .           .             1029         240  \n",
       "\n",
       "[8405898 rows x 11 columns]"
      ]
     },
     "execution_count": 6,
     "metadata": {},
     "output_type": "execute_result"
    }
   ],
   "source": [
    "event_df = pd.read_csv('train_logs.csv.zip')\n",
    "event_df"
   ]
  },
  {
   "cell_type": "code",
   "execution_count": 7,
   "id": "b492a316-78ba-400e-a106-a1038472a349",
   "metadata": {},
   "outputs": [
    {
     "data": {
      "text/html": [
       "<div>\n",
       "<style scoped>\n",
       "    .dataframe tbody tr th:only-of-type {\n",
       "        vertical-align: middle;\n",
       "    }\n",
       "\n",
       "    .dataframe tbody tr th {\n",
       "        vertical-align: top;\n",
       "    }\n",
       "\n",
       "    .dataframe thead th {\n",
       "        text-align: right;\n",
       "    }\n",
       "</style>\n",
       "<table border=\"1\" class=\"dataframe\">\n",
       "  <thead>\n",
       "    <tr style=\"text-align: right;\">\n",
       "      <th></th>\n",
       "      <th>score</th>\n",
       "    </tr>\n",
       "    <tr>\n",
       "      <th>id</th>\n",
       "      <th></th>\n",
       "    </tr>\n",
       "  </thead>\n",
       "  <tbody>\n",
       "    <tr>\n",
       "      <th>001519c8</th>\n",
       "      <td>3.5</td>\n",
       "    </tr>\n",
       "    <tr>\n",
       "      <th>0022f953</th>\n",
       "      <td>3.5</td>\n",
       "    </tr>\n",
       "    <tr>\n",
       "      <th>0042269b</th>\n",
       "      <td>6.0</td>\n",
       "    </tr>\n",
       "    <tr>\n",
       "      <th>0059420b</th>\n",
       "      <td>2.0</td>\n",
       "    </tr>\n",
       "    <tr>\n",
       "      <th>0075873a</th>\n",
       "      <td>4.0</td>\n",
       "    </tr>\n",
       "    <tr>\n",
       "      <th>...</th>\n",
       "      <td>...</td>\n",
       "    </tr>\n",
       "    <tr>\n",
       "      <th>ffb8c745</th>\n",
       "      <td>3.5</td>\n",
       "    </tr>\n",
       "    <tr>\n",
       "      <th>ffbef7e5</th>\n",
       "      <td>4.0</td>\n",
       "    </tr>\n",
       "    <tr>\n",
       "      <th>ffccd6fd</th>\n",
       "      <td>1.5</td>\n",
       "    </tr>\n",
       "    <tr>\n",
       "      <th>ffec5b38</th>\n",
       "      <td>5.0</td>\n",
       "    </tr>\n",
       "    <tr>\n",
       "      <th>fff05981</th>\n",
       "      <td>4.0</td>\n",
       "    </tr>\n",
       "  </tbody>\n",
       "</table>\n",
       "<p>2471 rows × 1 columns</p>\n",
       "</div>"
      ],
      "text/plain": [
       "          score\n",
       "id             \n",
       "001519c8    3.5\n",
       "0022f953    3.5\n",
       "0042269b    6.0\n",
       "0059420b    2.0\n",
       "0075873a    4.0\n",
       "...         ...\n",
       "ffb8c745    3.5\n",
       "ffbef7e5    4.0\n",
       "ffccd6fd    1.5\n",
       "ffec5b38    5.0\n",
       "fff05981    4.0\n",
       "\n",
       "[2471 rows x 1 columns]"
      ]
     },
     "execution_count": 7,
     "metadata": {},
     "output_type": "execute_result"
    }
   ],
   "source": [
    "score_df = pd.read_csv('train_scores.csv')\n",
    "score_df = score_df.set_index('id')\n",
    "score_df"
   ]
  },
  {
   "cell_type": "markdown",
   "id": "3f5e43e3-f003-4fba-b2ff-856a23270617",
   "metadata": {},
   "source": [
    "# Exploratory Data Analysis\n",
    "\n",
    "I chose this data due to my personal interest in the use of typing patterns as indicators of certain behaviors, and this was a great way to understand the structure / nature of most typing data sets & train models on them. \n",
    "\n",
    "## First, let's look at the distribution of scores\n",
    "\n",
    "We are trying to predict essay scores, so let's examine scores of essays"
   ]
  },
  {
   "cell_type": "code",
   "execution_count": 8,
   "id": "3dc102df-6f12-443b-b9a6-c1c9475d1076",
   "metadata": {},
   "outputs": [
    {
     "data": {
      "text/plain": [
       "Text(0.5, 1.0, 'Essay Score Distribution')"
      ]
     },
     "execution_count": 8,
     "metadata": {},
     "output_type": "execute_result"
    },
    {
     "data": {
      "image/png": "[encoded data removed]",
      "text/plain": [
       "<Figure size 800x500 with 1 Axes>"
      ]
     },
     "metadata": {},
     "output_type": "display_data"
    }
   ],
   "source": [
    "sns.set_style(\"white\")\n",
    "plt.rcParams['font.family'] = 'monospace' \n",
    "# Import data\n",
    "x1 = score_df['score']\n",
    "\n",
    "# Plot\n",
    "kwargs = dict(hist_kws={'alpha':.6}, kde_kws={'linewidth':2}, bins=[0.5,1,1.5,2,2.5,3,3.5,4,4.5,5,5.5,6])\n",
    " \n",
    "plt.figure(figsize=(8,5), dpi= 100)\n",
    "\n",
    "\n",
    "\n",
    "sns.distplot(x1, color=\"deeppink\", **kwargs)\n",
    "\n",
    "plt.xlabel(\"Score\")\n",
    "plt.ylabel(\"Density\")\n",
    "plt.title(\"Essay Score Distribution\")"
   ]
  },
  {
   "cell_type": "markdown",
   "id": "37758b25-6848-4bdb-9f40-28092651f412",
   "metadata": {},
   "source": [
    "## Let's create some more basic features: the number of events and number of deletions in an essay"
   ]
  },
  {
   "cell_type": "code",
   "execution_count": 9,
   "id": "602b95ed-e626-49cf-9230-a909e6939a3e",
   "metadata": {},
   "outputs": [],
   "source": [
    "## Functions for basic features:\n",
    "def num_events(essay_id, df):\n",
    "    ft_df = df[essay_id]\n",
    "    return len(ft_df)\n",
    "\n",
    "def num_deletions(essay_id, df):\n",
    "    counts =  df[essay_id]['activity'].value_counts()\n",
    "    if 'Remove/Cut' in counts.index:\n",
    "        return counts['Remove/Cut']\n",
    "    else:\n",
    "        return 0\n",
    "\n",
    "def num_words(essay_id, df):\n",
    "    count = df[essay_id]['word_count'].iloc[-1]\n",
    "    return count"
   ]
  },
  {
   "cell_type": "code",
   "execution_count": 10,
   "id": "ca2f6755-8af2-4e5f-bcb9-6ad6b50a2d4c",
   "metadata": {},
   "outputs": [],
   "source": [
    "## Create a dict of essay id to pandas dataframe - easy to get a specific dataframe's essay for feature extraction\n",
    "essay_events = dict(tuple(event_df.groupby('id')))"
   ]
  },
  {
   "cell_type": "code",
   "execution_count": 11,
   "id": "6b537e90-74ff-492f-9547-d84619df6a97",
   "metadata": {},
   "outputs": [
    {
     "data": {
      "image/png": "[encoded data removed]",
      "text/plain": [
       "<Figure size 1000x300 with 3 Axes>"
      ]
     },
     "metadata": {},
     "output_type": "display_data"
    }
   ],
   "source": [
    "x1 = [num_events(index, essay_events) for index, row in score_df.iterrows()]\n",
    "x2 = [num_deletions(index, essay_events) for index, row in score_df.iterrows()]\n",
    "x3 = [num_words(index, essay_events) for index, row in score_df.iterrows()]\n",
    "\n",
    "# plot\n",
    "fig, axes = plt.subplots(1, 3, figsize=(10, 3), sharey=True, dpi=100)\n",
    "sns.distplot(x1 , color=\"dodgerblue\", ax=axes[0], axlabel='Number of Events')\n",
    "sns.distplot(x2 , color=\"deeppink\", ax=axes[1], axlabel='Number of Deletions');\n",
    "sns.distplot(x3 , color=\"orangered\", ax=axes[2], axlabel='Number of Words');"
   ]
  },
  {
   "cell_type": "markdown",
   "id": "ace68b7a-089c-409a-b4cd-ef7619e81af2",
   "metadata": {},
   "source": [
    "## These distributions are clearly log-scaled, so let's make features that take the log of both of them"
   ]
  },
  {
   "cell_type": "code",
   "execution_count": 12,
   "id": "6fcd7408-b12a-4746-a210-0efb16567f4e",
   "metadata": {},
   "outputs": [],
   "source": [
    "def log_num_events(essay_id, df):\n",
    "    return math.log2(num_events(essay_id, df))\n",
    "\n",
    "def log_num_deletions(essay_id, df):\n",
    "    return math.log2(num_deletions(essay_id, df) + 1) # offset for log\n",
    "\n",
    "def log_num_words(essay_id, df):\n",
    "    return math.log2(num_words(essay_id, df))"
   ]
  },
  {
   "cell_type": "code",
   "execution_count": 13,
   "id": "0b5c0201-ed4a-44c0-8c18-17695ffb64fd",
   "metadata": {},
   "outputs": [
    {
     "data": {
      "image/png": "[encoded data removed]",
      "text/plain": [
       "<Figure size 1000x300 with 3 Axes>"
      ]
     },
     "metadata": {},
     "output_type": "display_data"
    }
   ],
   "source": [
    "x1 = [log_num_events(index, essay_events) for index, row in score_df.iterrows()]\n",
    "x2 = [log_num_deletions(index, essay_events) for index, row in score_df.iterrows()]\n",
    "x3 = [log_num_words(index, essay_events) for index, row in score_df.iterrows()]\n",
    "\n",
    "# plot\n",
    "fig, axes = plt.subplots(1, 3, figsize=(10, 3), sharey=True, dpi=100)\n",
    "sns.distplot(x1 , color=\"dodgerblue\", ax=axes[0], axlabel='Log Number of Events')\n",
    "sns.distplot(x2 , color=\"deeppink\", ax=axes[1], axlabel='Log Number of Deletions');\n",
    "sns.distplot(x3 , color=\"orangered\", ax=axes[2], axlabel='Log Number of Words');"
   ]
  },
  {
   "cell_type": "markdown",
   "id": "c1f2baa7-a846-4e2d-a324-454fa1e63f84",
   "metadata": {},
   "source": [
    "# Prediction\n",
    "\n",
    "## Naive Approach (Linear Regression)\n",
    "\n",
    "The dataset has keystrokes from users, but the keys are anonymized as 'q' so the goal is to use the timestamps / ordering of events to train some model to predict the score of each essay. There are about 2500 users' essays in the dataset and nearly 8.5 million events, so I'll definitely have to drastically reduce dimensionality when I do regular classification. For now, though, we can see if we can fit a regression between # of events and the score for each essay."
   ]
  },
  {
   "cell_type": "code",
   "execution_count": 14,
   "id": "5be74c77-4556-4802-9179-e3e38ccad927",
   "metadata": {},
   "outputs": [],
   "source": [
    "def MSE(predictions, actual):\n",
    "    return sum((predictions[i] - actual[i])**2 for i in range(len(predictions))) / len(predictions)"
   ]
  },
  {
   "cell_type": "code",
   "execution_count": 15,
   "id": "9079bab5-e7c9-4ce0-a698-2092b32744a0",
   "metadata": {},
   "outputs": [],
   "source": [
    "## Train / Valid / Test Split:\n",
    "seeds = 2004, 1983, 12\n",
    "\n",
    "splits = [np.split(\n",
    "    score_df.sample(frac=1, random_state = seed), [int(0.5 * len(score_df))]) for seed in seeds]\n",
    "\n",
    "train_score_dfs = [split[0] for split in splits]\n",
    "test_score_dfs = [split[1] for split in splits]"
   ]
  },
  {
   "cell_type": "code",
   "execution_count": 16,
   "id": "123614f7-3dad-4558-a8dd-b70bf4deae8e",
   "metadata": {},
   "outputs": [],
   "source": [
    "## All features separate: log and not log\n",
    "\n",
    "X_trains_num_events = [[[num_events(essay_id, essay_events)] \n",
    "                         for essay_id, row in train_score_df.iterrows()] for train_score_df in train_score_dfs]\n",
    "X_trains_log_num_events = [[[log_num_events(essay_id, essay_events)] \n",
    "                         for essay_id, row in train_score_df.iterrows()] for train_score_df in train_score_dfs]\n",
    "X_trains_num_deletions = [[[num_deletions(essay_id, essay_events)] \n",
    "                         for essay_id, row in train_score_df.iterrows()] for train_score_df in train_score_dfs]\n",
    "X_trains_log_num_deletions = [[[log_num_deletions(essay_id, essay_events)] \n",
    "                         for essay_id, row in train_score_df.iterrows()] for train_score_df in train_score_dfs]\n",
    "X_trains_num_words = [[[num_words(essay_id, essay_events)] \n",
    "                         for essay_id, row in train_score_df.iterrows()] for train_score_df in train_score_dfs]\n",
    "X_trains_log_num_words = [[[log_num_words(essay_id, essay_events)] \n",
    "                         for essay_id, row in train_score_df.iterrows()] for train_score_df in train_score_dfs]\n",
    "\n",
    "y_trains = [[row['score'] for essay_id, row in train_score_df.iterrows()] for train_score_df in train_score_dfs]\n",
    "\n",
    "\n",
    "X_tests_num_events = [[[num_events(essay_id, essay_events)] \n",
    "                         for essay_id, row in test_score_df.iterrows()] for test_score_df in test_score_dfs]\n",
    "X_tests_log_num_events = [[[log_num_events(essay_id, essay_events)] \n",
    "                         for essay_id, row in test_score_df.iterrows()] for test_score_df in test_score_dfs]\n",
    "X_tests_num_deletions = [[[num_deletions(essay_id, essay_events)] \n",
    "                         for essay_id, row in test_score_df.iterrows()] for test_score_df in test_score_dfs]\n",
    "X_tests_log_num_deletions = [[[log_num_deletions(essay_id, essay_events)] \n",
    "                         for essay_id, row in test_score_df.iterrows()] for test_score_df in test_score_dfs]\n",
    "X_tests_num_words = [[[num_words(essay_id, essay_events)] \n",
    "                         for essay_id, row in test_score_df.iterrows()] for test_score_df in test_score_dfs]\n",
    "X_tests_log_num_words = [[[log_num_words(essay_id, essay_events)] \n",
    "                         for essay_id, row in test_score_df.iterrows()] for test_score_df in test_score_dfs]\n",
    "\n",
    "\n",
    "y_tests = [[row['score'] for essay_id, row in test_score_df.iterrows()] for test_score_df in test_score_dfs]"
   ]
  },
  {
   "cell_type": "code",
   "execution_count": 17,
   "id": "e16db50c-8758-4ee0-af59-62c7f0188390",
   "metadata": {},
   "outputs": [],
   "source": [
    "regs_num_events = [linear_model.LinearRegression().fit(X_train, y_train) for (X_train, y_train) in zip(X_trains_num_events, y_trains)]\n",
    "\n",
    "regs_log_num_events = [linear_model.LinearRegression().fit(X_train, y_train) for (X_train, y_train) in zip(X_trains_log_num_events, y_trains)]\n",
    "\n",
    "regs_num_deletions = [linear_model.LinearRegression().fit(X_train, y_train) for (X_train, y_train) in zip(X_trains_num_deletions, y_trains)]\n",
    "\n",
    "regs_log_num_deletions = [linear_model.LinearRegression().fit(X_train, y_train) for (X_train, y_train) in zip(X_trains_log_num_deletions, y_trains)]\n",
    "\n",
    "regs_num_words = [linear_model.LinearRegression().fit(X_train, y_train) for (X_train, y_train) in zip(X_trains_num_words, y_trains)]\n",
    "\n",
    "regs_log_num_words = [linear_model.LinearRegression().fit(X_train, y_train) for (X_train, y_train) in zip(X_trains_log_num_words, y_trains)]"
   ]
  },
  {
   "cell_type": "code",
   "execution_count": 18,
   "id": "a05713fa-76f4-4525-a27b-8ddaca09dba7",
   "metadata": {},
   "outputs": [
    {
     "name": "stdout",
     "output_type": "stream",
     "text": [
      "MSES for num events: [0.6803616180630022, 0.7232688922009521, 0.7238584583279332]\n",
      "MSES for log num events: [0.6203263985569867, 0.640463715584686, 0.6334569957435457]\n",
      "MSES for num deletions: [0.9623295991847461, 1.001622481505261, 1.0019244005218984]\n",
      "MSES for log num deletions: [0.8905918720329442, 0.9228960614109114, 0.9019916447223087]\n",
      "MSES for num words: [0.6030279358014377, 0.635038230199783, 0.6420673056192123]\n",
      "MSES for log num words: [0.5301670106313389, 0.5577847982455166, 0.5560860065876809]\n"
     ]
    }
   ],
   "source": [
    "y_preds_num_events = [reg.predict(X_test) for (reg, X_test) in zip(regs_num_events, X_tests_num_events)]\n",
    "MSE_num_events = [MSE(y_pred, y_test) for y_pred, y_test in zip(y_preds_num_events, y_tests)]\n",
    "print(f\"MSES for num events: {MSE_num_events}\") \n",
    "\n",
    "y_preds_log_num_events = [reg.predict(X_test) for (reg, X_test) in zip(regs_log_num_events, X_tests_log_num_events)]\n",
    "MSE_log_num_events = [MSE(y_pred, y_test) for y_pred, y_test in zip(y_preds_log_num_events, y_tests)]\n",
    "print(f\"MSES for log num events: {MSE_log_num_events}\") \n",
    "\n",
    "y_preds_num_deletions = [reg.predict(X_test) for (reg, X_test) in zip(regs_num_deletions, X_tests_num_deletions)]\n",
    "MSE_num_deletions = [MSE(y_pred, y_test) for y_pred, y_test in zip(y_preds_num_deletions, y_tests)]\n",
    "print(f\"MSES for num deletions: {MSE_num_deletions}\") \n",
    "\n",
    "y_preds_log_num_deletions = [reg.predict(X_test) for (reg, X_test) in zip(regs_log_num_deletions, X_tests_log_num_deletions)]\n",
    "MSE_log_num_deletions = [MSE(y_pred, y_test) for y_pred, y_test in zip(y_preds_log_num_deletions, y_tests)]\n",
    "print(f\"MSES for log num deletions: {MSE_log_num_deletions}\") \n",
    "\n",
    "y_preds_num_words = [reg.predict(X_test) for (reg, X_test) in zip(regs_num_words, X_tests_num_words)]\n",
    "MSE_num_words = [MSE(y_pred, y_test) for y_pred, y_test in zip(y_preds_num_words, y_tests)]\n",
    "print(f\"MSES for num words: {MSE_num_words}\") \n",
    "\n",
    "y_preds_log_num_words = [reg.predict(X_test) for (reg, X_test) in zip(regs_log_num_words, X_tests_log_num_words)]\n",
    "MSE_log_num_words = [MSE(y_pred, y_test) for y_pred, y_test in zip(y_preds_log_num_words, y_tests)]\n",
    "print(f\"MSES for log num words: {MSE_log_num_words}\") "
   ]
  },
  {
   "cell_type": "code",
   "execution_count": 19,
   "id": "420ab1d2-b06b-4e84-bd4a-3473ea2af342",
   "metadata": {},
   "outputs": [],
   "source": [
    "## All features combined\n",
    "X_trains_combined = [[[log_num_events(essay_id, essay_events), log_num_words(essay_id, essay_events)] \n",
    "                         for essay_id, row in train_score_df.iterrows()] for train_score_df in train_score_dfs]\n",
    "\n",
    "X_tests_combined = [[[log_num_events(essay_id, essay_events), log_num_words(essay_id, essay_events)] \n",
    "                         for essay_id, row in test_score_df.iterrows()] for test_score_df in test_score_dfs]\n",
    "\n",
    "regs_combined = [linear_model.LinearRegression().fit(X_train, y_train) for (X_train, y_train) in zip(X_trains_combined, y_trains)]"
   ]
  },
  {
   "cell_type": "code",
   "execution_count": 20,
   "id": "5cd3420b-537e-46e0-afdd-7ad6f18c865a",
   "metadata": {},
   "outputs": [
    {
     "name": "stdout",
     "output_type": "stream",
     "text": [
      "MSES for log features combined: [0.5228547055186219, 0.5423025499955366, 0.5400855623894222]\n"
     ]
    }
   ],
   "source": [
    "y_preds_combined = [reg.predict(X_test) for (reg, X_test) in zip(regs_combined, X_tests_combined)]\n",
    "MSE_combined = [MSE(y_pred, y_test) for y_pred, y_test in zip(y_preds_combined, y_tests)]\n",
    "print(f\"MSES for log features combined: {MSE_combined}\") "
   ]
  },
  {
   "cell_type": "code",
   "execution_count": null,
   "id": "cc4e61fc-3f17-4168-9d13-52c27f8e24ee",
   "metadata": {},
   "outputs": [],
   "source": [
    "X_train_final = [[log_num_events(essay_id, essay_events), log_num_deletions(essay_id, essay_events)] for essay_id, row in score_df.iterrows()]\n",
    "y_train_final = [row['score'] for essay_id, row in score_df.iterrows()]\n",
    "final_reg = linear_model.LinearRegression().fit(X_train_final, y_train_final)"
   ]
  },
  {
   "cell_type": "code",
   "execution_count": null,
   "id": "90c22f73-5933-4e25-8463-cdf1322acd35",
   "metadata": {},
   "outputs": [],
   "source": [
    "# Make predictions on the test data\n",
    "final_df = pd.read_csv('test_logs.csv')\n",
    "final_df = final_df.set_index('id')\n",
    "final_events = dict(tuple(final_df.groupby('id')))\n",
    "\n",
    "print(final_df)\n",
    "\n",
    "X_test_final = [[log_num_events(essay_id, final_events), log_num_deletions(essay_id, final_events)] for essay_id, row in final_df.iterrows()]\n",
    "\n",
    "test_predictions = final_reg.predict(X_test_final)\n",
    "print(X_test_final)\n",
    "print(test_predictions)\n",
    "\n",
    "# Create a submission DataFrame\n",
    "submission = pd.DataFrame({'id': final_df.index, 'score': test_predictions})\n",
    "\n",
    "# Remove duplicates from the submission DataFrame\n",
    "submission.drop_duplicates(subset=['id'], keep='last', inplace=True)\n",
    "\n",
    "# Save the submission file\n",
    "submission.to_csv('submission.csv', index=False)"
   ]
  },
  {
   "cell_type": "markdown",
   "id": "a321a821-ca5e-402b-8bc2-32141350638b",
   "metadata": {},
   "source": [
    "### Submitted to Kaggle, MSE: 0.576 RMSE Private / 0.594 RMSE Public\n",
    "\n",
    "## Enough is Enough with the linear regressions! Let's use LGBM to actually quantify which features are impactful, then make some more"
   ]
  },
  {
   "cell_type": "code",
   "execution_count": 51,
   "id": "b02a4901-01a5-480f-bbe2-1938b8d4a62d",
   "metadata": {},
   "outputs": [],
   "source": [
    "# First thing is to get organized - need to have a way to add any features to a dataframe\n",
    "# Desired feature is an array of (string, function) representing the name of feature and the function to calculate that feature for an id\n",
    "def calculate_features(df, desired_features):\n",
    "    featureDF = df.copy()\n",
    "    for (featureName, featureFunct) in desired_features:\n",
    "        featureList = [featureFunct(essay_id, df) for essay_id, row in df.iterrows()]\n",
    "        featureDF[featureName] = featureList\n",
    "    return featureDF"
   ]
  },
  {
   "cell_type": "code",
   "execution_count": 56,
   "id": "8c7162a1-6181-4fa2-a034-a538802cb00f",
   "metadata": {},
   "outputs": [],
   "source": [
    "## Now, let's organize our splits with K-Fold Cross Validation\n",
    "cross_validator = KFold(n_splits = 5, shuffle=True, random_state = 2004)\n",
    "\n",
    "## Cross validation function to run any model on our folds & give all of the MSES\n",
    "def cross_validate(model, df, cross_validator):\n",
    "    X = df.drop('Score', axis=1)\n",
    "    y = df['Score']\n",
    "\n",
    "    mses = {}\n",
    "    for fold, (trainIdx, validIdx) in enumerate(cross_validator.split(X, y)):\n",
    "        XTrain = X.iloc[train_index]\n",
    "        XValid = X.iloc[valid_index]\n",
    "        ytrain = y.iloc[train_index]\n",
    "        ytest = y.iloc[valid_index]\n",
    "\n",
    "        model.fit(XTrain, ytrain)\n",
    "\n",
    "        ypred = model.predict(XTest)\n",
    "\n",
    "        mses[fold] = MSE(ypred, ytest)\n",
    "\n",
    "    return mses"
   ]
  },
  {
   "cell_type": "code",
   "execution_count": 50,
   "id": "823116cf-fe74-4061-89f7-cf2772dbb232",
   "metadata": {},
   "outputs": [
    {
     "name": "stdout",
     "output_type": "stream",
     "text": [
      "0.5151637825008708\n"
     ]
    }
   ],
   "source": [
    "y_pred = first_lgbm_model.predict(X_tests_combined[0])\n",
    "print(MSE(y_pred, y_tests[0]))"
   ]
  },
  {
   "cell_type": "code",
   "execution_count": null,
   "id": "455d55a1-b457-45a9-81b4-36502c67818b",
   "metadata": {},
   "outputs": [],
   "source": []
  }
 ],
 "metadata": {
  "kernelspec": {
   "display_name": "Python 3 (ipykernel)",
   "language": "python",
   "name": "python3"
  },
  "language_info": {
   "codemirror_mode": {
    "name": "ipython",
    "version": 3
   },
   "file_extension": ".py",
   "mimetype": "text/x-python",
   "name": "python",
   "nbconvert_exporter": "python",
   "pygments_lexer": "ipython3",
   "version": "3.11.9"
  }
 },
 "nbformat": 4,
 "nbformat_minor": 5
}
